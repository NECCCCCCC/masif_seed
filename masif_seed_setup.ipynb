{
 "cells": [
  {
   "cell_type": "code",
   "execution_count": null,
   "metadata": {
    "tags": []
   },
   "outputs": [],
   "source": [
    "# Install dependencies\n",
    "!apt-get install --assume-yes libgl1-mesa-glx dssp\n",
    "!pip3 install -i http://pypi.douban.com/simple --trusted-host pypi.douban.com dask"
   ]
  },
  {
   "cell_type": "code",
   "execution_count": null,
   "metadata": {
    "tags": []
   },
   "outputs": [],
   "source": [
    "# Extract helices\n",
    "%cd /job/code/masif_seed/masif/data/masif_peptides/\n",
    "!python batch_data_extract_helix.py"
   ]
  },
  {
   "cell_type": "code",
   "execution_count": null,
   "metadata": {},
   "outputs": [],
   "source": [
    "# compress the results\n",
    "!tar -czvf /job/save/00-raw_pdbs.tar.gz /job/save/00-raw_pdbs\n",
    "!tar -czvf /job/save/01-benchmark_pdbs.tar.gz /job/save/01-benchmark_pdbs\n",
    "!tar -czvf /job/save/01-benchmark_surfaces.tar.gz /job/save/01-benchmark_surfaces\n",
    "!rm -rf /job/save/00-raw_pdbs/ /job/save/01-benchmark_pdbs/ /job/save/01-benchmark_surfaces/"
   ]
  },
  {
   "cell_type": "code",
   "execution_count": null,
   "metadata": {},
   "outputs": [],
   "source": []
  }
 ],
 "metadata": {
  "kernelspec": {
   "display_name": "Python 3",
   "language": "python",
   "name": "python3"
  },
  "language_info": {
   "codemirror_mode": {
    "name": "ipython",
    "version": 3
   },
   "file_extension": ".py",
   "mimetype": "text/x-python",
   "name": "python",
   "nbconvert_exporter": "python",
   "pygments_lexer": "ipython3",
   "version": "3.6.8"
  }
 },
 "nbformat": 4,
 "nbformat_minor": 4
}
